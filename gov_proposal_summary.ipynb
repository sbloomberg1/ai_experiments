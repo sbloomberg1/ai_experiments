{
 "cells": [
  {
   "cell_type": "markdown",
   "metadata": {},
   "source": [
    "## Let's build a simple experiment\n",
    "\n",
    "We'll ingest a governance proposal or discussion and we'll create a summary in the style of either a Gov Analyst or PR Analyst"
   ]
  },
  {
   "cell_type": "code",
   "execution_count": 4,
   "metadata": {},
   "outputs": [],
   "source": [
    "# pip install necessary libraries\n",
    "# %pip install langchain openai "
   ]
  },
  {
   "cell_type": "code",
   "execution_count": 5,
   "metadata": {},
   "outputs": [],
   "source": [
    "# import necessary libraries\n",
    "from langchain import PromptTemplate, FewShotPromptTemplate"
   ]
  },
  {
   "cell_type": "code",
   "execution_count": 6,
   "metadata": {},
   "outputs": [],
   "source": [
    "# create prompt templates using langchain library\n",
    "\n",
    "# using a couple random examples from Uniswap and Aave governance \n",
    "examples = [\n",
    "\t{\n",
    "\t\t\"proposal\": \"This ARFC proposes to increase both the supply and borrow caps of wstETH on the Aave V3 Arbitrum market by 100%. wstETH is a wrapped version of stETH, a liquid staking token, created when users stake ETH through the Lido protocol. The proposal aims to raise the supply cap to 4,800 wstETH and the borrow cap to 380 wstETH to meet the growing market demand for depositing and borrowing this asset. With wstETH currently at 100 percent of its supply cap (2,400) and ~99 percent of its borrow cap (190) on Aave V3 Arbitrum market, increasing both caps by 100% will allow more users to utilize the platform and meet market demand. The proposed cap of 4,800 wstETH for the supply and 380 wstETH for the borrow offers a balance between accommodating demand and maintaining a conservative approach. Furthermore, this increase adheres to the “direct-to-AIP” framework, enabling a rapid response to the high demand for wstETH on Aave.\",\n",
    "\t\t\"summary\": \"This proposal aims to double the supply and borrow caps of wstETH on the Aave V3 Arbitrum to 4,800 wstETH and 380 wstETH, respectively.\"\n",
    "\t}, {\n",
    "\t\t\"proposal\": \"My proposal is to shift the responsibility away from the Uniswap stakeholders and instead allow protocols to capture the fees switch for their own pool. Specifically: fee switch proposals for each pool should come from the teams that launched the token for that pool. If a team launches tokenX, then that team will have the right to submit a proposal to the Uniswap DAO to capture fees collected for the ETH-TokenX pair. In other words, fees from each pool will mainly go to protocols, not to Uniswap ecosystem participants. This way, the team that launched TokenX would effectively take a cut of any trading activity that occurs in their own tokens Uniswap pool. This has the added benefit of giving protocol/token projects the flexibility to craft liquidity programs for their Uniswap pool that make it easier for their community of token holders to LP; such as narrow/wide/single-sided/automated LP positions. LPs that do not follow these guidelines will not receive any rewards and will take a 10% pay cut. The key point here is that the protocol X will be in full control of these funds, and they will have to make the decisions about liability, taxes, and legal entities, not the Uniswap DAO, stakeholders, or foundation. Note that the fee switch distribution is still contingent on the protocols proposal being approved by UNI voters. The Uniswap DAO, stakeholders, and foundation could still provide general guidelines that are aligned with Uniswaps values when reviewing any teams proposal to use those funds. And the UniswapDAO should set very high standards from the very beginning for approving any proposal. Overall, this proposal has the potential to create a more sustainable and equitable ecosystem for all participants, including swappers, LPs, protocols, and the Uniswap DAO.\",\n",
    "\t\t\"summary\": \"This proposal addresses the risks of the plan to turn on the fee switch for certain ETH/stablecoin pairs. The proposal states the current plan may create taxable events and regulatory uncertainty and that targeting the pools with the largest volumes may harm future fee switch proposals if it fails. The proposal recommends shifting the responsibility away from Uniswap stakeholders and instead allowing protocols to capture the fees for their own pool(s). This means fee switch proposals for each pool should come from the team that launched the token for that pool. Projects that fail to follow the guidelines won't receive any rewards, resulting in a 10% pay cut.\"\n",
    "\t}\n",
    "]\n",
    "\n",
    "example_template = \"\"\"\n",
    "User: {proposal}\n",
    "AI: {summary}\n",
    "\"\"\"\n",
    "\n",
    "example_prompt = PromptTemplate(\n",
    "\tinput_variables = [\"proposal\", \"summary\"],\n",
    "\ttemplate = example_template\n",
    ")\n",
    "\n",
    "# now break our prompt into a prefix and suffix\n",
    "\n",
    "# the prefix is our instructions\n",
    "prefix = \"\"\"The following are summaries of governance proposals. They should be succinct, have an objective tone, and be no more than two paragraphs. Here are some examples: \n",
    "\"\"\"\n",
    "\n",
    "# the suffix is our user input and output indicator\n",
    "suffix = \"\"\"\n",
    "User: {proposal}\n",
    "AI: \"\"\"\n",
    "\n",
    "# now create the few shot prompt template\n",
    "few_shot_prompt_template = FewShotPromptTemplate(\n",
    "    examples=examples,\n",
    "    example_prompt=example_prompt,\n",
    "    prefix=prefix,\n",
    "    suffix=suffix,\n",
    "    input_variables=[\"proposal\"],\n",
    "    example_separator=\"\\n\\n\"\n",
    ")"
   ]
  },
  {
   "cell_type": "code",
   "execution_count": null,
   "metadata": {},
   "outputs": [],
   "source": []
  }
 ],
 "metadata": {
  "kernelspec": {
   "display_name": "Python 3.8.9 64-bit",
   "language": "python",
   "name": "python3"
  },
  "language_info": {
   "codemirror_mode": {
    "name": "ipython",
    "version": 3
   },
   "file_extension": ".py",
   "mimetype": "text/x-python",
   "name": "python",
   "nbconvert_exporter": "python",
   "pygments_lexer": "ipython3",
   "version": "3.8.9"
  },
  "orig_nbformat": 4,
  "vscode": {
   "interpreter": {
    "hash": "31f2aee4e71d21fbe5cf8b01ff0e069b9275f58929596ceb00d14d90e3e16cd6"
   }
  }
 },
 "nbformat": 4,
 "nbformat_minor": 2
}
